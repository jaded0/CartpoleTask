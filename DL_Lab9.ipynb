{
 "cells": [
  {
   "cell_type": "markdown",
   "metadata": {
    "colab_type": "text",
    "id": "w-jFCArcTC-B"
   },
   "source": [
    "<a \n",
    "href=\"https://colab.research.google.com/github/wingated/cs474_labs_f2019/blob/master/DL_Lab9.ipynb\"\n",
    "  target=\"_parent\">\n",
    "  <img\n",
    "    src=\"https://colab.research.google.com/assets/colab-badge.svg\"\n",
    "    alt=\"Open In Colab\"/>\n",
    "</a>"
   ]
  },
  {
   "cell_type": "markdown",
   "metadata": {
    "colab_type": "text",
    "id": "sl7hEuB3J4k3"
   },
   "source": [
    "# Lab 9: Deep Reinforcement Learning\n",
    "\n",
    "## Objective\n",
    "\n",
    "- Build DQN and PPO Deep RL algorithms\n",
    "- Learn the difference between Q Learning and Policy Gradient techniques\n",
    "\n",
    "## Deliverable\n",
    "\n",
    "For this lab you will submit an IPython notebook via Learning Suite. This lab gives you a lot of code, and you should only need to modify two of the cells of this notebook, but you can modify any of the given code if you wish.\n",
    "\n",
    "## Tips\n",
    "\n",
    "Deep reinforcement learning is difficult. We provide hyperparameters, visualizations, and code for gathering experience, but require you to code up algorithms for training your networks. \n",
    "\n",
    "- Your networks should be able to demonstrate learning on cartpole within a minute of wall time.\n",
    "\n",
    "- Understand what your the starter code is doing. This will help you with the *TODO* sections. The main code block is similar for the two algorithms with some small yet important differences.\n",
    "\n",
    "- We provide hyperparameters for you to start with. Feel free to experiment with different values, but these worked for us.\n",
    "\n",
    "- **Print dtypes and shapes** throughout your code to make sure your tensors look the way you expect.\n",
    "\n",
    "- The DQN algorithm is significantly more unstable than PPO. Even with a correct implementation it may fail to learn every 1/10 times.\n",
    "\n",
    "- Unfortunately visualizing your agent acting in the environment is non-trivial in Colab. You can visualize your agent by running this code locally and uncommenting the `env.render()` line.\n",
    "\n",
    "## Grading\n",
    "\n",
    "- 35% Part 1: DQN *TODO* methods\n",
    "- 35% Part 2: PPO *TODO* methods\n",
    "- 20% Cartpole learning curves for DQN and PPO\n",
    "- 10% Tidy legible code\n",
    "\n",
    "___\n",
    "\n",
    "## Cartpole\n",
    "\n",
    "Cartpole is a simple environment to get your agent up and running. It has a continuous state space of 4 dimensions and a discrete action space of 2. The agent is given a reward of 1 for each timestep it remains standing. Your agent should be able to reach close to 200 cumulative reward for an episode after a minute or two of training. The below graphs show example results for dqn (left) and ppo (right).\n",
    "\n",
    "![alt text](https://drive.google.com/uc?export=view&id=1Bpz1jOPMF1zJMW6XBJJ44sJ-RmO_q6_U)\n",
    "![alt text](https://drive.google.com/uc?export=view&id=1M1yygXhLKDL8qfRXn7fh_K-zq7-pQRhY)\n",
    "\n",
    "___"
   ]
  },
  {
   "cell_type": "markdown",
   "metadata": {
    "colab_type": "text",
    "id": "gVWokqnVab6O"
   },
   "source": [
    "# Starter Code"
   ]
  },
  {
   "cell_type": "markdown",
   "metadata": {
    "colab_type": "text",
    "id": "WhaPOG6xt0yn"
   },
   "source": [
    "## Init"
   ]
  },
  {
   "cell_type": "code",
   "execution_count": 1,
   "metadata": {
    "colab": {},
    "colab_type": "code",
    "id": "EyykNyRM1Tf3"
   },
   "outputs": [
    {
     "name": "stdout",
     "output_type": "stream",
     "text": [
      "Collecting gym==0.25.2\n",
      "  Downloading gym-0.25.2.tar.gz (734 kB)\n",
      "\u001b[2K     \u001b[90m━━━━━━━━━━━━━━━━━━━━━━━━━━━━━━━━━━━━━━\u001b[0m \u001b[32m734.5/734.5 kB\u001b[0m \u001b[31m34.2 MB/s\u001b[0m eta \u001b[36m0:00:00\u001b[0m\n",
      "\u001b[?25h  Installing build dependencies ... \u001b[?25ldone\n",
      "\u001b[?25h  Getting requirements to build wheel ... \u001b[?25ldone\n",
      "\u001b[?25h  Preparing metadata (pyproject.toml) ... \u001b[?25ldone\n",
      "\u001b[?25hRequirement already satisfied: cloudpickle>=1.2.0 in /usr/local/lib/python3.9/dist-packages (from gym==0.25.2) (2.1.0)\n",
      "Collecting gym-notices>=0.0.4\n",
      "  Downloading gym_notices-0.0.8-py3-none-any.whl (3.0 kB)\n",
      "Requirement already satisfied: numpy>=1.18.0 in /usr/local/lib/python3.9/dist-packages (from gym==0.25.2) (1.23.1)\n",
      "Requirement already satisfied: importlib-metadata>=4.8.0 in /usr/local/lib/python3.9/dist-packages (from gym==0.25.2) (4.12.0)\n",
      "Requirement already satisfied: zipp>=0.5 in /usr/local/lib/python3.9/dist-packages (from importlib-metadata>=4.8.0->gym==0.25.2) (3.8.1)\n",
      "Building wheels for collected packages: gym\n",
      "  Building wheel for gym (pyproject.toml) ... \u001b[?25ldone\n",
      "\u001b[?25h  Created wheel for gym: filename=gym-0.25.2-py3-none-any.whl size=852306 sha256=55c4f443c6ad7ef87a7b421706652057cd1781d682121e68dda4f8dc76f3611e\n",
      "  Stored in directory: /root/.cache/pip/wheels/05/4d/6c/d0ef0db36695ce032fe20099e3149d8db85cf36656176ff745\n",
      "Successfully built gym\n",
      "Installing collected packages: gym-notices, gym\n",
      "Successfully installed gym-0.25.2 gym-notices-0.0.8\n",
      "\u001b[33mWARNING: Running pip as the 'root' user can result in broken permissions and conflicting behaviour with the system package manager. It is recommended to use a virtual environment instead: https://pip.pypa.io/warnings/venv\u001b[0m\u001b[33m\n",
      "\u001b[0mRequirement already satisfied: torch in /usr/local/lib/python3.9/dist-packages (1.12.0+cu116)\n",
      "Requirement already satisfied: typing-extensions in /usr/local/lib/python3.9/dist-packages (from torch) (4.3.0)\n",
      "\u001b[33mWARNING: Running pip as the 'root' user can result in broken permissions and conflicting behaviour with the system package manager. It is recommended to use a virtual environment instead: https://pip.pypa.io/warnings/venv\u001b[0m\u001b[33m\n",
      "\u001b[0m"
     ]
    }
   ],
   "source": [
    "! pip3 install gym==0.25.2\n",
    "! pip3 install torch"
   ]
  },
  {
   "cell_type": "code",
   "execution_count": 2,
   "metadata": {
    "colab": {},
    "colab_type": "code",
    "id": "Rim8iocC1Vva"
   },
   "outputs": [],
   "source": [
    "import gym\n",
    "import torch\n",
    "import torch.nn as nn\n",
    "from itertools import chain\n",
    "import matplotlib.pyplot as plt\n",
    "from tqdm import tqdm\n",
    "import random\n",
    "from torch.utils.data import Dataset, DataLoader\n",
    "import numpy as np\n",
    "import random"
   ]
  },
  {
   "cell_type": "markdown",
   "metadata": {},
   "source": [
    "## Part 1: DQN\n",
    "\n",
    "Deep Q-Network (https://www.cs.toronto.edu/~vmnih/docs/dqn.pdf) is a Q-learning algorithm that learns values for state-action pairs.\n",
    "\n",
    "Actions are sampled according to an $\\epsilon-greedy$ policy to help with exploration of the state space. Every time an action is sampled, the agent chooses a random action with $\\epsilon$ probability. Otherwise, the agent selects the action with the highest Q-value for a state. $\\epsilon$ decays over time according to $\\epsilon \\gets \\epsilon * epsilon\\_decay$.\n",
    "\n",
    "Tuples of state, action, reward, next_state, and terminal $(s,a,r,s',d)$ are collected during training. Every $learn\\_frequency$ steps $sample\\_size$ tuples are sampled and made into 5 tensors tensors of states, actions, rewarads, next_states, and terminals.\n",
    "\n",
    "The loss for a batch of size N is given below.\n",
    "\n",
    "$Loss=\\frac{1}{N}\\sum \\bigg(Q(s,a) - (r + \\gamma \\underset{a'\\sim A}{max} \\hat{Q}(s',a')(1-d))\\bigg)^2 $\n",
    "\n",
    "Loss is calculated and used to update the Q-Network. The target network $\\hat{Q}$ begins as a copy of the Q network but is not updated by the optimizer. Every $target\\_update$ steps, the target network is updated with the parameters of the Q-Network. This processes is a type of bootstrapping.\n",
    "\n",
    "### TODO\n",
    "\n",
    "- Implement get action method with e-greedy policy\n",
    "- Implement sample batch method\n",
    "- Implement DQN learning algorithm\n",
    "- Train DQN on cartpole\n",
    "- Display learning curves with average episodic reward per epoch"
   ]
  },
  {
   "cell_type": "code",
   "execution_count": 3,
   "metadata": {},
   "outputs": [],
   "source": [
    "# useful globals\n",
    "ACTION_SIZE = 2\n",
    "STATE_SIZE = 4"
   ]
  },
  {
   "cell_type": "code",
   "execution_count": 4,
   "metadata": {
    "colab": {},
    "colab_type": "code",
    "id": "_mBUvXkT2dHy"
   },
   "outputs": [],
   "source": [
    "def get_action_dqn(network, state, epsilon, epsilon_decay):\n",
    "  \"\"\"Select action according to e-greedy policy and decay epsilon\n",
    "\n",
    "    Args:\n",
    "        network (QNetwork): Q-Network\n",
    "        state (np-array): current state, size (state_size)\n",
    "        epsilon (float): probability of choosing a random action\n",
    "        epsilon_decay (float): amount by which to decay epsilon\n",
    "\n",
    "    Returns:\n",
    "        action (int): chosen action [0, action_size)\n",
    "        epsilon (float): decayed epsilon\n",
    "  \"\"\"\n",
    "  action = 0\n",
    "  if random.random() < epsilon:\n",
    "    action = random.randint(0, ACTION_SIZE-1) # does it need to be -1?????????\n",
    "  else:\n",
    "    action = np.argmax(network(torch.from_numpy(state).cuda()).tolist())\n",
    "\n",
    "  \n",
    "  # action = network(state[0]).argmax().item()\n",
    "  # print(action)\n",
    "  # print(type(action))\n",
    "  return action, epsilon*epsilon_decay\n",
    "\n",
    "\n",
    "def prepare_batch(memory, batch_size):\n",
    "  \"\"\"Randomly sample batch from memory\n",
    "     Prepare cuda tensors\n",
    "\n",
    "    Args:\n",
    "        memory (list): state, action, next_state, reward, done tuples\n",
    "        batch_size (int): amount of memory to sample into a batch\n",
    "\n",
    "    Returns:\n",
    "        state (tensor): float cuda tensor of size (batch_size x state_size()\n",
    "        action (tensor): long tensor of size (batch_size)\n",
    "        next_state (tensor): float cuda tensor of size (batch_size x state_size)\n",
    "        reward (tensor): float cuda tensor of size (batch_size)\n",
    "        done (tensor): float cuda tensor of size (batch_size)\n",
    "  \"\"\"\n",
    "  batch = random.sample(memory, batch_size)\n",
    "  state, action, next_state, reward, done = zip(*batch)\n",
    "\n",
    "\n",
    "  \n",
    "  state = torch.tensor( np.array(state) ).float().cuda().view(batch_size, STATE_SIZE)\n",
    "  action = torch.tensor(action).long().cuda()\n",
    "  next_state = torch.tensor( np.array(next_state) ).float().cuda().view(batch_size, STATE_SIZE)\n",
    "  reward = torch.tensor(reward).float().cuda()\n",
    "  done = torch.tensor(done).float().cuda()\n",
    "  \n",
    "  # print(f'size check: state {state.size()} action {action.size()} next_state {next_state.size()} reward {reward.size()} done {done.size()}')\n",
    "  return state, action, next_state, reward, done\n",
    "  \n",
    "  \n",
    "def learn_dqn(batch, optim, q_network, target_network, gamma, global_step, target_update):\n",
    "  \"\"\"Update Q-Network according to DQN Loss function\n",
    "     Update Target Network every target_update global steps\n",
    "\n",
    "    Args:\n",
    "        batch (tuple): tuple of state, action, next_state, reward, and done tensors\n",
    "        optim (Adam): Q-Network optimizer\n",
    "        q_network (QNetwork): Q-Network\n",
    "        target_network (QNetwork): Target Q-Network\n",
    "        gamma (float): discount factor\n",
    "        global_step (int): total steps taken in environment\n",
    "        target_update (int): frequency of target network update\n",
    "  \"\"\"\n",
    "\n",
    "  optim.zero_grad()\n",
    "  #predict q values for current state\n",
    "  # one hot encode actions\n",
    "  action = batch[1]\n",
    "  action = torch.nn.functional.one_hot(action, num_classes=-1)\n",
    "  state = batch[0]\n",
    "  next_state = batch[2]\n",
    "  reward = batch[3]\n",
    "  done = batch[4]\n",
    "\n",
    "  # get loss\n",
    "  # print(action)\n",
    "  # print(q_network(state).matmul(action.float().t()))\n",
    "  # print(f'q_network(state) {q_network(state).size()} action {action.float().size()} reward {reward.size()} done {done.size()}')\n",
    "  # print(q_network(state).t().matmul(action.float()))\n",
    "  q = q_network(state).mul(action.float()).sum(1)\n",
    "  # print(f'first {q} second {(reward + gamma * target_network(next_state).max(1)[0].detach() * (1 - done)).size()}')\n",
    "  loss = torch.nn.functional.mse_loss(q, reward + gamma * target_network(next_state).max(1)[0].detach() * (1 - done))\n",
    "  loss.backward()\n",
    "\n",
    "  # update weights\n",
    "  optim.step()\n",
    "\n",
    "  # update target network\n",
    "  if global_step % target_update == 0:\n",
    "    target_network.load_state_dict(q_network.state_dict())\n",
    "  \n",
    "  pass "
   ]
  },
  {
   "cell_type": "code",
   "execution_count": 5,
   "metadata": {},
   "outputs": [],
   "source": [
    "# env = gym.make('CartPole-v1', )\n",
    "# env.action_space.sample()\n",
    "# env.reset()\n",
    "# env.step(1)"
   ]
  },
  {
   "cell_type": "markdown",
   "metadata": {
    "colab_type": "text",
    "id": "vGQgiY0WvImB"
   },
   "source": [
    "### Modules"
   ]
  },
  {
   "cell_type": "code",
   "execution_count": 6,
   "metadata": {
    "colab": {},
    "colab_type": "code",
    "id": "1vMhl-oevIBo"
   },
   "outputs": [],
   "source": [
    "# Q-Value Network\n",
    "class QNetwork(nn.Module):\n",
    "  def __init__(self, state_size, action_size):\n",
    "    super().__init__()\n",
    "    hidden_size = 8\n",
    "    \n",
    "    self.net = nn.Sequential(nn.Linear(state_size, hidden_size),\n",
    "                             nn.ReLU(),\n",
    "                             nn.Linear(hidden_size, hidden_size),\n",
    "                             nn.ReLU(),\n",
    "                             nn.Linear(hidden_size, hidden_size),\n",
    "                             nn.ReLU(),\n",
    "                             nn.Linear(hidden_size, action_size))  \n",
    "    \n",
    "  def forward(self, x):\n",
    "    \"\"\"Estimate q-values given state\n",
    "\n",
    "      Args:\n",
    "          state (tensor): current state, size (batch x state_size)\n",
    "\n",
    "      Returns:\n",
    "          q-values (tensor): estimated q-values, size (batch x action_size)\n",
    "    \"\"\"\n",
    "    return self.net(x)"
   ]
  },
  {
   "cell_type": "markdown",
   "metadata": {
    "colab_type": "text",
    "id": "yCafVI552dgg"
   },
   "source": [
    "### Main"
   ]
  },
  {
   "cell_type": "code",
   "execution_count": 7,
   "metadata": {},
   "outputs": [],
   "source": [
    "# x = torch.randn(32,2)\n",
    "# y = torch.nn.functional.one_hot(torch.randint(2,(32,1))).squeeze(1)\n",
    "# # x.matmul(y.t().reshape(2,32,1)).size()\n",
    "# x.size(), y.size(), x.mul(y).sum(1).size()\n",
    "# x,y"
   ]
  },
  {
   "cell_type": "code",
   "execution_count": 8,
   "metadata": {},
   "outputs": [],
   "source": [
    "# x.mul(y).sum(1)"
   ]
  },
  {
   "cell_type": "code",
   "execution_count": 9,
   "metadata": {
    "colab": {},
    "colab_type": "code",
    "id": "8Sy_r9Wr2eg8"
   },
   "outputs": [
    {
     "name": "stderr",
     "output_type": "stream",
     "text": [
      "/usr/local/lib/python3.9/dist-packages/gym/core.py:317: DeprecationWarning: \u001b[33mWARN: Initializing wrapper in old step API which returns one bool instead of two. It is recommended to set `new_step_api=True` to use new step API. This will be the default behaviour in future.\u001b[0m\n",
      "  deprecation(\n",
      "/usr/local/lib/python3.9/dist-packages/gym/wrappers/step_api_compatibility.py:39: DeprecationWarning: \u001b[33mWARN: Initializing environment in old step API which returns one bool instead of two. It is recommended to set `new_step_api=True` to use new step API. This will be the default behaviour in future.\u001b[0m\n",
      "  deprecation(\n",
      "                                                                              \r"
     ]
    }
   ],
   "source": [
    "def dqn_main():\n",
    "  # Hyper parameters\n",
    "  lr = 1e-3\n",
    "  epochs = 500\n",
    "  start_training = 1000\n",
    "  gamma = 0.99\n",
    "  batch_size = 32\n",
    "  epsilon = 1\n",
    "  epsilon_decay = .9999\n",
    "  target_update = 1000\n",
    "  learn_frequency = 2\n",
    "\n",
    "  # Init environment\n",
    "  state_size = 4\n",
    "  action_size = 2\n",
    "  env = gym.make('CartPole-v1', )\n",
    "\n",
    "  # Init networks\n",
    "  q_network = QNetwork(state_size, action_size).cuda()\n",
    "  target_network = QNetwork(state_size, action_size).cuda()\n",
    "  target_network.load_state_dict(q_network.state_dict())\n",
    "\n",
    "  # Init optimizer\n",
    "  optim = torch.optim.Adam(q_network.parameters(), lr=lr)\n",
    "\n",
    "  # Init replay buffer\n",
    "  memory = []\n",
    "\n",
    "  # Begin main loop\n",
    "  results_dqn = []\n",
    "  global_step = 0\n",
    "  loop = tqdm(total=epochs, position=0, leave=False)\n",
    "  for epoch in range(epochs):\n",
    "\n",
    "    # Reset environment\n",
    "    state = env.reset()\n",
    "    done = False\n",
    "    cum_reward = 0  # Track cumulative reward per episode\n",
    "\n",
    "    # Begin episode\n",
    "    while not done and cum_reward < 200:  # End after 200 steps \n",
    "      # Select e-greedy action\n",
    "      action, epsilon = get_action_dqn(q_network, state, epsilon, epsilon_decay)\n",
    "\n",
    "      # Take step\n",
    "      next_state, reward, done, _ = env.step(action)\n",
    "      # env.render()\n",
    "\n",
    "      # Store step in replay buffer\n",
    "      memory.append((state, action, next_state, reward, done))\n",
    "\n",
    "      cum_reward += reward\n",
    "      global_step += 1  # Increment total steps\n",
    "      state = next_state  # Set current state\n",
    "\n",
    "      # If time to train\n",
    "      if global_step > start_training and global_step % learn_frequency == 0:\n",
    "\n",
    "        # Sample batch\n",
    "        batch = prepare_batch(memory, batch_size)\n",
    "        \n",
    "        # Train\n",
    "        learn_dqn(batch, optim, q_network, target_network, gamma, global_step, target_update)\n",
    "\n",
    "    # Print results at end of episode\n",
    "    results_dqn.append(cum_reward)\n",
    "    loop.update(1)\n",
    "    loop.set_description('Episodes: {} Reward: {}'.format(epoch, cum_reward))\n",
    "  \n",
    "  return results_dqn\n",
    "\n",
    "results_dqn = dqn_main()"
   ]
  },
  {
   "cell_type": "code",
   "execution_count": 10,
   "metadata": {
    "colab": {},
    "colab_type": "code",
    "id": "ZWYwytCDC3aw"
   },
   "outputs": [
    {
     "data": {
      "image/png": "[encoded data removed]",
      "text/plain": [
       "<Figure size 432x288 with 1 Axes>"
      ]
     },
     "metadata": {
      "needs_background": "light"
     },
     "output_type": "display_data"
    }
   ],
   "source": [
    "plt.plot(results_dqn)\n",
    "plt.show()"
   ]
  },
  {
   "cell_type": "markdown",
   "metadata": {
    "colab_type": "text",
    "id": "qN9yy5EWVNz0"
   },
   "source": [
    "## Part 2: PPO\n",
    "\n",
    "Proximal Policy Optimization (https://arxiv.org/pdf/1707.06347.pdf) is a type of policy gradient method. Instead of calculating Q-values, we train a network $\\pi$ to optimize the probability of taking good actions directly, using states as inputs and actions as outputs. PPO also uses a value network $V$ that estimates state values in order to estimate the advantage $\\hat{A}$. \n",
    "\n",
    "Tuples of state, action distribution, action taken, and return $(s,\\pi(s), a,\\hat{R})$ are gathered for several rollouts. After training on this experience, these tuples are discarded and new experience is gathered.\n",
    "\n",
    "Loss for the value network and the policy network are calculated according to the following formula:\n",
    "\n",
    "$Loss=ValueLoss+PolicyLoss$\n",
    "\n",
    "$ValueLoss=\\frac{1}{N}\\sum \\bigg(\\hat{R} - V(s) \\bigg)^2 $\n",
    "\n",
    "$PolicyLoss=-\\frac{1}{N}\\sum \\min\\bigg( \\frac{\\pi'(a|s)}{\\pi(a|s)} \\hat{A}, clip(\\frac{\\pi'(a|s)}{\\pi(a|s)},1-\\epsilon,1+\\epsilon) \\hat{A} \\bigg) $\n",
    "\n",
    "$\\hat{R}_t = \\sum_{i=t}^H \\gamma^{i-1}r_i$\n",
    "\n",
    "$\\hat{A}_t=\\hat{R}_t-V(s_t)$\n",
    "\n",
    "Here, $\\pi'(a|s)$ is the probability of taking an action given a state under the current policy and $\\pi(a|s)$ is the probability of taking an action given a state under the policy used to gather data. In the loss function, $a$ is the action your agent actually took and is sampled from memory. \n",
    "\n",
    "Additionally, the $clip$ function clips the value of the first argument according to the lower and upper bounds in the second and third arguments resectively.\n",
    "\n",
    "Another important note: Your the calculation of your advantage $\\hat{A}$ should not permit gradient flow from your policy loss calculation. In other words, make sure to call `.detach()` on your advantage.\n",
    "\n",
    "### TODO\n",
    "\n",
    "- Implement calculate return method\n",
    "- Implement get action method\n",
    "- Implement PPO learning algorithm\n",
    "- Train PPO on cartpole\n",
    "- Display learning curves with average episodic reward per epoch"
   ]
  },
  {
   "cell_type": "code",
   "execution_count": 11,
   "metadata": {
    "colab": {},
    "colab_type": "code",
    "id": "zsm1pILHVcEp"
   },
   "outputs": [],
   "source": [
    "def calculate_return(memory, rollout, gamma):\n",
    "  \"\"\"Return memory with calculated return in experience tuple\n",
    "\n",
    "    Args:\n",
    "        memory (list): (state, action, action_dist, return) tuples\n",
    "        rollout (list): (state, action, action_dist, reward) tuples from last rollout\n",
    "        gamma (float): discount factor\n",
    "\n",
    "    Returns:\n",
    "        list: memory updated with (state, action, action_dist, return) tuples from rollout\n",
    "  \"\"\"\n",
    "  state, action, action_dist, reward = zip(*rollout)\n",
    "  # print(f'state {state} action {action} action_dist {action_dist} reward {reward}')\n",
    "  # state = torch.stack(state)\n",
    "  # action = torch.stack(action)\n",
    "  # action_dist = torch.stack(action_dist)\n",
    "  # reward = torch.tensor(reward)\n",
    "\n",
    "  # print(reward)\n",
    "  cumulate = 0\n",
    "  # rturn = tuple((r*gamma for r in reward))\n",
    "  rturn = list(reward)\n",
    "  for i,r in reversed(list(enumerate(reward))):\n",
    "    cumulate = r + gamma*cumulate\n",
    "    rturn[i] = cumulate\n",
    "  # use extend and not append for adding to memory\n",
    "  memory.extend(zip(state, action, action_dist, tuple(rturn)))\n",
    "\n",
    "  # print(f'memory: {len(memory)}, rollout: {len(rollout)}')\n",
    "  # print(f'\\nmemory: {memory}, \\n rollout: {rollout}\\n')\n",
    "  # assert len(memory) == len(rollout)\n",
    "  return memory\n",
    "\n",
    "\n",
    "def get_action_ppo(network, state):\n",
    "  \"\"\"Sample action from the distribution obtained from the policy network\n",
    "\n",
    "    Args:\n",
    "        network (PolicyNetwork): Policy Network\n",
    "        state (np-array): current state, size (state_size)\n",
    "\n",
    "    Returns:\n",
    "        int: action sampled from output distribution of policy network\n",
    "        array: output distribution of policy network\n",
    "  \"\"\"\n",
    "\n",
    "  # state = \n",
    "\n",
    "  with torch.no_grad():\n",
    "    # convert state to tensor\n",
    "    state = torch.tensor(state, dtype=torch.float32).cuda().unsqueeze(0)\n",
    "    # get action distribution from network\n",
    "    action_dist = network(state)\n",
    "    # sample action from distribution\n",
    "    action = torch.distributions.Categorical(action_dist).sample().item()\n",
    "    # you need to resize network output to (1, action_size), use torch.multinomial\n",
    "    # return the action from multinomial (use .item() for it, i guess) and the action distribution\n",
    "\n",
    "    assert action_dist.size() == (1, 2), 'action_dist size is wrong'\n",
    "    assert action in [0, 1], 'action is wrong'\n",
    "    return action, action_dist\n",
    "  \n",
    "  \n",
    "\n",
    "def learn_ppo(optim, policy, value, memory_dataloader, epsilon, policy_epochs):\n",
    "  \"\"\"Implement PPO policy and value network updates. Iterate over your entire \n",
    "     memory the number of times indicated by policy_epochs.    \n",
    "\n",
    "    Args:\n",
    "        optim (Adam): value and policy optimizer\n",
    "        policy (PolicyNetwork): Policy Network\n",
    "        value (ValueNetwork): Value Network\n",
    "        memory_dataloader (DataLoader): dataloader with (state, action, action_dist, return, discounted_sum_rew) tensors\n",
    "        epsilon (float): trust region\n",
    "        policy_epochs (int): number of times to iterate over all memory\n",
    "  \"\"\"\n",
    "  # print(f'{policy_epochs} policy epochs')\n",
    "  for epoch in range(policy_epochs):\n",
    "    # print('epoch')\n",
    "    # print(f'{len(memory_dataloader)} memory dataloader')\n",
    "    for state, action, action_dist, return_ in memory_dataloader:\n",
    "      state = state.cuda()\n",
    "      action = action.cuda()\n",
    "      action_dist = action_dist.cuda().squeeze()\n",
    "      return_ = return_.cuda().float()\n",
    "\n",
    "      # print(f'batch, state: {state.size()}, action: {action.size()}, action_dist: {action_dist.size()}, return: {return_.size()}')\n",
    "      return_ = return_\n",
    "      # get value from value network\n",
    "      value_ = value((state)).squeeze()\n",
    "      # print(f'value: {value_.size()}')\n",
    "      # calculate advantage\n",
    "      advantage = return_ - value_\n",
    "      advantage.detach_()\n",
    "      # calculate value loss with mean squared error\n",
    "      value_loss = torch.nn.functional.mse_loss(value_, return_)\n",
    "\n",
    "      \n",
    "      action = torch.nn.functional.one_hot(action, num_classes=-1).float()\n",
    "      new_action_dist = policy(state).cuda().squeeze()\n",
    "      # calculate ratio\n",
    "      ratio = torch.exp(torch.log(new_action_dist.mul(action).sum(1)) - torch.log(action_dist.mul(action).sum(1)))\n",
    "      # calculate policy loss\n",
    "      # print(f'first (ratio) {(ratio).size()}, second (advantage) {advantage.size()} lens: state={state.size()}, action={action.size()}, action_dist={action_dist.size()}, return={return_.size()}')\n",
    "      policy_loss = -torch.mean(torch.min(ratio*advantage, torch.clamp(ratio, 1-epsilon, 1+epsilon)*advantage))\n",
    "      # print((ratio*advantage).size())\n",
    "      # calculate total loss\n",
    "      # print(f'policy loss: {policy_loss.size()}, value loss: {value_loss.size()}')\n",
    "      loss = value_loss + policy_loss\n",
    "      # backpropagate loss\n",
    "      loss.backward()\n",
    "      # take optimizer step\n",
    "      optim.step()\n",
    "      # zero gradients\n",
    "      optim.zero_grad()\n",
    "\n",
    "  pass "
   ]
  },
  {
   "cell_type": "markdown",
   "metadata": {
    "colab_type": "text",
    "id": "R6RXma_-vSGX"
   },
   "source": [
    "### Modules"
   ]
  },
  {
   "cell_type": "code",
   "execution_count": 12,
   "metadata": {
    "colab": {},
    "colab_type": "code",
    "id": "L8URnP8xvTTG"
   },
   "outputs": [],
   "source": [
    "# Dataset that wraps memory for a dataloader\n",
    "class RLDataset(Dataset):\n",
    "  def __init__(self, data):\n",
    "    super().__init__()\n",
    "    self.data = []\n",
    "    for d in data:\n",
    "      self.data.append(d)\n",
    "  \n",
    "  def __getitem__(self, index):\n",
    "    return self.data[index]\n",
    " \n",
    "  def __len__(self):\n",
    "    return len(self.data)\n",
    "\n",
    "\n",
    "# Policy Network\n",
    "class PolicyNetwork(nn.Module):\n",
    "  def __init__(self, state_size, action_size):\n",
    "    super().__init__()\n",
    "    hidden_size = 8\n",
    "    \n",
    "    self.net = nn.Sequential(nn.Linear(state_size, hidden_size),\n",
    "                             nn.ReLU(),\n",
    "                             nn.Linear(hidden_size, hidden_size),\n",
    "                             nn.ReLU(),\n",
    "                             nn.Linear(hidden_size, hidden_size),\n",
    "                             nn.ReLU(),\n",
    "                             nn.Linear(hidden_size, action_size),\n",
    "                             nn.Softmax(dim=1))\n",
    "  \n",
    "  def forward(self, x):\n",
    "    \"\"\"Get policy from state\n",
    "\n",
    "      Args:\n",
    "          state (tensor): current state, size (batch x state_size)\n",
    "\n",
    "      Returns:\n",
    "          action_dist (tensor): probability distribution over actions (batch x action_size)\n",
    "    \"\"\"\n",
    "    return self.net(x)\n",
    "  \n",
    "\n",
    "# Value Network\n",
    "class ValueNetwork(nn.Module):\n",
    "  def __init__(self, state_size):\n",
    "    super().__init__()\n",
    "    hidden_size = 8\n",
    "  \n",
    "    self.net = nn.Sequential(nn.Linear(state_size, hidden_size),\n",
    "                             nn.ReLU(),\n",
    "                             nn.Linear(hidden_size, hidden_size),\n",
    "                             nn.ReLU(),\n",
    "                             nn.Linear(hidden_size, hidden_size),\n",
    "                             nn.ReLU(),\n",
    "                             nn.Linear(hidden_size, 1))\n",
    "    \n",
    "  def forward(self, x):\n",
    "    \"\"\"Estimate value given state\n",
    "\n",
    "      Args:\n",
    "          state (tensor): current state, size (batch x state_size)\n",
    "\n",
    "      Returns:\n",
    "          value (tensor): estimated value, size (batch)\n",
    "    \"\"\"\n",
    "    return self.net(x)"
   ]
  },
  {
   "cell_type": "markdown",
   "metadata": {
    "colab_type": "text",
    "id": "_aBD_R_e01Qb"
   },
   "source": [
    "### Main"
   ]
  },
  {
   "cell_type": "code",
   "execution_count": 13,
   "metadata": {
    "colab": {},
    "colab_type": "code",
    "id": "qX_Bv4M4MyY2"
   },
   "outputs": [
    {
     "name": "stderr",
     "output_type": "stream",
     "text": [
      "                                                                         \r"
     ]
    }
   ],
   "source": [
    "def ppo_main():\n",
    "  # Hyper parameters\n",
    "  lr = 1e-3\n",
    "  epochs = 20\n",
    "  env_samples = 100\n",
    "  gamma = 0.9\n",
    "  batch_size = 256\n",
    "  epsilon = 0.2\n",
    "  policy_epochs = 5\n",
    "\n",
    "  # Init environment \n",
    "  state_size = 4\n",
    "  action_size = 2\n",
    "  env = gym.make('CartPole-v1')\n",
    "\n",
    "  # Init networks\n",
    "  policy_network = PolicyNetwork(state_size, action_size).cuda()\n",
    "  value_network = ValueNetwork(state_size).cuda()\n",
    "\n",
    "  # Init optimizer\n",
    "  optim = torch.optim.Adam(chain(policy_network.parameters(), value_network.parameters()), lr=lr)\n",
    "\n",
    "  # Start main loop\n",
    "  results_ppo = []\n",
    "  loop = tqdm(total=epochs, position=0, leave=False)\n",
    "  for epoch in range(epochs):\n",
    "    \n",
    "    memory = []  # Reset memory every epoch\n",
    "    rewards = []  # Calculate average episodic reward per epoch\n",
    "\n",
    "    # Begin experience loop\n",
    "    for episode in range(env_samples):\n",
    "      \n",
    "      # Reset environment\n",
    "      state = env.reset()\n",
    "      done = False\n",
    "      rollout = []\n",
    "      cum_reward = 0  # Track cumulative reward\n",
    "\n",
    "      # Begin episode\n",
    "      while not done and cum_reward < 200:  # End after 200 steps   \n",
    "        # Get action\n",
    "        action, action_dist = get_action_ppo(policy_network, state)\n",
    "        \n",
    "        # Take step\n",
    "        next_state, reward, done, _ = env.step(action)\n",
    "        # env.render()\n",
    "\n",
    "        # Store step\n",
    "        rollout.append((state, action, action_dist, reward))\n",
    "\n",
    "        cum_reward += reward\n",
    "        state = next_state  # Set current state\n",
    "\n",
    "      # Calculate returns and add episode to memory\n",
    "      memory = calculate_return(memory, rollout, gamma)\n",
    "\n",
    "      rewards.append(cum_reward)\n",
    "      \n",
    "    # Train\n",
    "    dataset = RLDataset(memory)\n",
    "    loader = DataLoader(dataset, batch_size=batch_size, shuffle=True)\n",
    "    learn_ppo(optim, policy_network, value_network, loader, epsilon, policy_epochs)\n",
    "    \n",
    "    # Print results\n",
    "    results_ppo.extend(rewards)  # Store rewards for this epoch\n",
    "    loop.update(1)\n",
    "    loop.set_description(\"Epochs: {} Reward: {}\".format(epoch, results_ppo[-1]))\n",
    "\n",
    "  return results_ppo\n",
    "\n",
    "results_ppo = ppo_main()"
   ]
  },
  {
   "cell_type": "code",
   "execution_count": 14,
   "metadata": {
    "colab": {},
    "colab_type": "code",
    "id": "pLXetCMpC1DE"
   },
   "outputs": [
    {
     "data": {
      "image/png": "[encoded data removed]",
      "text/plain": [
       "<Figure size 432x288 with 1 Axes>"
      ]
     },
     "metadata": {
      "needs_background": "light"
     },
     "output_type": "display_data"
    }
   ],
   "source": [
    "plt.plot(results_ppo)\n",
    "plt.show()"
   ]
  },
  {
   "cell_type": "code",
   "execution_count": null,
   "metadata": {},
   "outputs": [],
   "source": []
  }
 ],
 "metadata": {
  "accelerator": "GPU",
  "colab": {
   "collapsed_sections": [],
   "name": "DL_Lab9.ipynb",
   "provenance": []
  },
  "kernelspec": {
   "display_name": "Python 3 (ipykernel)",
   "language": "python",
   "name": "python3"
  },
  "language_info": {
   "codemirror_mode": {
    "name": "ipython",
    "version": 3
   },
   "file_extension": ".py",
   "mimetype": "text/x-python",
   "name": "python",
   "nbconvert_exporter": "python",
   "pygments_lexer": "ipython3",
   "version": "3.9.13"
  }
 },
 "nbformat": 4,
 "nbformat_minor": 2
}
